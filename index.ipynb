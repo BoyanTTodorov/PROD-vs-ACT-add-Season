{
 "cells": [
  {
   "cell_type": "code",
   "execution_count": null,
   "metadata": {},
   "outputs": [
    {
     "name": "stdout",
     "output_type": "stream",
     "text": [
      "VAS Qty in productivity file: 3202167\n",
      "VAS Qty YTD: 3479463\n",
      "Difference YTD: 277296 \n"
     ]
    }
   ],
   "source": [
    "import pandas as pd\n",
    "\n",
    "path = r'VAS_DATA.xlsx'\n",
    "prod = pd.read_excel(path, sheet_name='Prod')\n",
    "act = pd.read_excel(path, sheet_name='Act')\n",
    "\n",
    "print(f'VAS Qty in productivity file: {prod['Qty_Prod'].sum()}\\nVAS Qty YTD: {act['Qty_Act'].sum()}\\nDifference YTD: {abs(prod['Qty_Prod'].sum() - act['Qty_Act'].sum())} ')\n"
   ]
  },
  {
   "cell_type": "code",
   "execution_count": 63,
   "metadata": {},
   "outputs": [
    {
     "name": "stdout",
     "output_type": "stream",
     "text": [
      "count      258.000000\n",
      "mean     13486.290698\n",
      "std       9567.162253\n",
      "min          6.000000\n",
      "25%       6084.500000\n",
      "50%      13073.500000\n",
      "75%      19369.000000\n",
      "max      39338.000000\n",
      "Name: Qty_Act, dtype: float64\n",
      "Date_Act    datetime64[ns]\n",
      "Qty_Act              int64\n",
      "dtype: object\n"
     ]
    }
   ],
   "source": [
    "print(act['Qty_Act'].describe())\n",
    "act['Date_Act'] = pd.to_datetime(act['Date_Act'], format='%Y-%m-%d')\n",
    "print(act.dtypes)\n"
   ]
  },
  {
   "cell_type": "code",
   "execution_count": 64,
   "metadata": {},
   "outputs": [
    {
     "name": "stdout",
     "output_type": "stream",
     "text": [
      "count      305.000000\n",
      "mean     10498.908197\n",
      "std       9730.255484\n",
      "min          0.000000\n",
      "25%          0.000000\n",
      "50%       9697.000000\n",
      "75%      16846.000000\n",
      "max      41605.000000\n",
      "Name: Qty_Prod, dtype: float64\n",
      "Date_Prod    datetime64[ns]\n",
      "Qty_Prod              int64\n",
      "dtype: object\n"
     ]
    }
   ],
   "source": [
    "print(prod['Qty_Prod'].describe())\n",
    "print(prod.dtypes)"
   ]
  },
  {
   "cell_type": "code",
   "execution_count": 65,
   "metadata": {},
   "outputs": [
    {
     "data": {
      "text/plain": [
       "Weekday\n",
       "Sunday       43\n",
       "Saturday     32\n",
       "Monday        3\n",
       "Wednesday     2\n",
       "Thursday      2\n",
       "Tuesday       2\n",
       "Friday        1\n",
       "Name: count, dtype: int64"
      ]
     },
     "execution_count": 65,
     "metadata": {},
     "output_type": "execute_result"
    }
   ],
   "source": [
    "mask = prod['Qty_Prod'] == 0\n",
    "empty_val_prod = prod.loc[mask].copy()\n",
    "empty_val_prod['Weekday'] = empty_val_prod['Date_Prod'].dt.day_name()\n",
    "empty_val_prod['Weekday'].value_counts()"
   ]
  },
  {
   "cell_type": "markdown",
   "metadata": {},
   "source": [
    "### We can see that missing empty data is from not working days WtoW, will be removed and checked again is there a match     \n",
    " "
   ]
  },
  {
   "cell_type": "code",
   "execution_count": 67,
   "metadata": {},
   "outputs": [
    {
     "name": "stdout",
     "output_type": "stream",
     "text": [
      "-277296.0\n",
      "-277296.0\n"
     ]
    }
   ],
   "source": [
    "mask = prod['Qty_Prod'] != 0\n",
    "\n",
    "prod = prod.loc[mask].copy()\n",
    "\n",
    "prod['Qty_Prod'].describe()\n",
    "\n",
    "df = pd.merge(prod, act, how='outer', left_on='Date_Prod', right_on='Date_Act', indicator=True)\n",
    "\n",
    "df['Qty_Prod'] = df['Qty_Prod'].fillna(0)\n",
    "df['Qty_Act'] = df['Qty_Act'].fillna(0)\n",
    "\n",
    "df['difference'] = df['Qty_Prod'] - df['Qty_Act']\n",
    "\n",
    "print(df['difference'].sum())\n",
    "\n",
    "print(df['Qty_Prod'].sum() - df['Qty_Act'].sum())\n",
    "\n",
    "df.to_excel('result.xlsx')\n"
   ]
  }
 ],
 "metadata": {
  "kernelspec": {
   "display_name": "venv",
   "language": "python",
   "name": "python3"
  },
  "language_info": {
   "codemirror_mode": {
    "name": "ipython",
    "version": 3
   },
   "file_extension": ".py",
   "mimetype": "text/x-python",
   "name": "python",
   "nbconvert_exporter": "python",
   "pygments_lexer": "ipython3",
   "version": "3.12.4"
  }
 },
 "nbformat": 4,
 "nbformat_minor": 2
}
