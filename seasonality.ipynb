{
 "cells": [
  {
   "cell_type": "markdown",
   "metadata": {},
   "source": [
    "# Calculating Sesonality Index on weekly bases"
   ]
  },
  {
   "cell_type": "markdown",
   "metadata": {},
   "source": [
    "### Inserting data and checking dtypes\n",
    "\n"
   ]
  },
  {
   "cell_type": "code",
   "execution_count": null,
   "metadata": {},
   "outputs": [],
   "source": [
    "# import what needed\n",
    "import pandas as pd\n",
    "import matplotlib.pyplot as plt\n",
    "import seaborn as sns\n",
    "import numpy as np\n",
    "\n",
    "# adding path\n",
    "path = r'SEAS.xlsx'\n",
    "\n",
    "# creatiung dataframe\n",
    "df = pd.read_excel(path)\n",
    "\n",
    "# checking types of variables\n",
    "print(df.dtypes)\n",
    "\n",
    "df.head()"
   ]
  },
  {
   "cell_type": "markdown",
   "metadata": {},
   "source": [
    "### Standardizing Variable Names for Consistency"
   ]
  },
  {
   "cell_type": "code",
   "execution_count": null,
   "metadata": {},
   "outputs": [],
   "source": [
    "# fixing variables names for consistenly and removing white spaces if any\n",
    "df.columns = df.columns.str.lower().str.strip().str.replace(' ', '_')\n",
    "\n",
    "df.columns"
   ]
  },
  {
   "cell_type": "markdown",
   "metadata": {},
   "source": [
    "### Adding new columns in order to track seasonality and calculate seasonality on weekly bases"
   ]
  },
  {
   "cell_type": "code",
   "execution_count": 36,
   "metadata": {},
   "outputs": [
    {
     "data": {
      "text/plain": [
       "Index([                           'date', 'inbound_unloading_+_palletizing',\n",
       "                         'unloading_goh',                     'putaway_goh',\n",
       "                 'unloading_consumables',              '%_check_on_inbound',\n",
       "                'troubleshooter_inbound',           'inbound_waiting_hours',\n",
       "                    'masterdata_new_sku',           'opt_putaway_+_picking',\n",
       "                         'opt_assigners',                               nan,\n",
       "                            'opt_intern',   'piece_picking_mezzanine_netto',\n",
       "                           'picking_goh',     'putaway_after_replenishment',\n",
       "                'troubleshooter_picking',               'picking_randzaken',\n",
       "                        'cycle_counting',                   'stock_control',\n",
       "                         'sorter_infeed',            'sorter_packing_netto',\n",
       "                'sorter_trouble_shooter',            'sorter_folding_boxes',\n",
       "                  'sorter_destroy_boxes',                    'sorter_aorta',\n",
       "                            'sorter_vas',                             'mzn',\n",
       "       'packing_manual_(incl_vas)_netto',                     'packing_goh',\n",
       "               'trouble_shooter_packing',      'preparation_packing_manual',\n",
       "          'shipping_palletize_+_putaway',                'shipping_picking',\n",
       "                     'shipping_checking',               'shipping_wrapping',\n",
       "                      'shipping_loading',                    'shipping_vas',\n",
       "              'shipping_trouble_shooter',                 'samples_inbound',\n",
       "                      'samples_outbound',               'samples_randzaken',\n",
       "                    'order_cancellation',                          'others',\n",
       "                        'hours_training',   'hours_customer_service_direct',\n",
       "                 'hours_process_control',                  'hours_cleaning',\n",
       "            'paid_services_asr/projects',                 'paid_service_qc',\n",
       "                    'paid_service_recon',        'paid_service_recon_extra',\n",
       "            'direct_clocked_on_indirect',                            'week'],\n",
       "      dtype='object')"
      ]
     },
     "execution_count": 36,
     "metadata": {},
     "output_type": "execute_result"
    }
   ],
   "source": [
    "# Ensure 'date' column is in datetime format\n",
    "df['date'] = pd.to_datetime(df['date'], errors='coerce')\n",
    "\n",
    "# Extract the week number before dropping columns with NaNs or zeros\n",
    "df['week'] = df['date'].dt.isocalendar().week\n",
    "\n",
    "# Drop columns that are entirely NaN\n",
    "df = df.dropna(axis=1, how='all')\n",
    "\n",
    "# Drop columns that contain only zeros\n",
    "df = df.loc[:, (df != 0).any(axis=0)]\n",
    "df.columns\n",
    "# # Calculate 'total' by summing numeric columns except 'date' and 'week'\n",
    "# df['total'] = df.loc[:, ~df.columns.isin(['date', 'week'])].sum(axis=1, numeric_only=True)\n",
    "\n",
    "# # Plotting\n",
    "# sns.relplot(data=df, kind='line', x='week', y='total')\n",
    "# plt.show()\n"
   ]
  }
 ],
 "metadata": {
  "kernelspec": {
   "display_name": "base",
   "language": "python",
   "name": "python3"
  },
  "language_info": {
   "codemirror_mode": {
    "name": "ipython",
    "version": 3
   },
   "file_extension": ".py",
   "mimetype": "text/x-python",
   "name": "python",
   "nbconvert_exporter": "python",
   "pygments_lexer": "ipython3",
   "version": "3.12.4"
  }
 },
 "nbformat": 4,
 "nbformat_minor": 2
}
